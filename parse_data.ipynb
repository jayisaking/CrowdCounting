{
 "cells": [
  {
   "cell_type": "code",
   "execution_count": 25,
   "metadata": {},
   "outputs": [],
   "source": [
    "import scipy.io as io\n",
    "import os"
   ]
  },
  {
   "cell_type": "code",
   "execution_count": 26,
   "metadata": {},
   "outputs": [],
   "source": [
    "train_path = './archive/ShanghaiTech/part_A/train_data/'\n",
    "test_path = './archive/ShanghaiTech/part_A/test_data/'\n",
    "gt = 'ground-truth/'\n",
    "img = 'images/'"
   ]
  },
  {
   "cell_type": "code",
   "execution_count": 33,
   "metadata": {},
   "outputs": [],
   "source": [
    "gtlist = os.listdir(train_path + gt)"
   ]
  },
  {
   "cell_type": "code",
   "execution_count": 28,
   "metadata": {},
   "outputs": [],
   "source": [
    "train_data_path = './data/train/'"
   ]
  },
  {
   "cell_type": "code",
   "execution_count": 29,
   "metadata": {},
   "outputs": [],
   "source": [
    "for filename in gtlist:\n",
    "    mat = io.loadmat(train_path + gt + filename)\n",
    "    length = int(mat['image_info'][0][0][0][0][1])\n",
    "    pairs = mat['image_info'][0][0][0][0][0]\n",
    "    with open(train_data_path + filename[3: -4] + '.txt', 'w') as file:\n",
    "        for pair in pairs:\n",
    "            file.write(f\"{pair[0]} {pair[1]}\\n\")"
   ]
  },
  {
   "cell_type": "code",
   "execution_count": 34,
   "metadata": {},
   "outputs": [],
   "source": [
    "with open(\"./data/train/train.txt\", 'w') as file:\n",
    "    for filename in gtlist:\n",
    "        file.write(f\"train/{filename[3: -4]}.jpg train/{filename[3: -4]}.txt\\n\")"
   ]
  },
  {
   "cell_type": "code",
   "execution_count": 35,
   "metadata": {},
   "outputs": [],
   "source": [
    "gtlist = os.listdir(test_path + gt)"
   ]
  },
  {
   "cell_type": "code",
   "execution_count": 31,
   "metadata": {},
   "outputs": [],
   "source": [
    "test_data_path = './data/test/'"
   ]
  },
  {
   "cell_type": "code",
   "execution_count": 32,
   "metadata": {},
   "outputs": [],
   "source": [
    "for filename in gtlist:\n",
    "    mat = io.loadmat(test_path + gt + filename)\n",
    "    length = int(mat['image_info'][0][0][0][0][1])\n",
    "    pairs = mat['image_info'][0][0][0][0][0]\n",
    "    with open(test_data_path + filename[3: -4] + '.txt', 'w') as file:\n",
    "        for pair in pairs:\n",
    "            file.write(f\"{pair[0]} {pair[1]}\\n\")"
   ]
  },
  {
   "cell_type": "code",
   "execution_count": 36,
   "metadata": {},
   "outputs": [],
   "source": [
    "with open(\"./data/test/test.txt\", 'w') as file:\n",
    "    for filename in gtlist:\n",
    "        file.write(f\"test/{filename[3: -4]}.jpg test/{filename[3: -4]}.txt\\n\")"
   ]
  },
  {
   "cell_type": "code",
   "execution_count": null,
   "metadata": {},
   "outputs": [],
   "source": []
  }
 ],
 "metadata": {
  "kernelspec": {
   "display_name": "mlp",
   "language": "python",
   "name": "python3"
  },
  "language_info": {
   "codemirror_mode": {
    "name": "ipython",
    "version": 3
   },
   "file_extension": ".py",
   "mimetype": "text/x-python",
   "name": "python",
   "nbconvert_exporter": "python",
   "pygments_lexer": "ipython3",
   "version": "3.8.13 | packaged by conda-forge | (default, Mar 25 2022, 06:04:14) \n[Clang 12.0.1 ]"
  },
  "orig_nbformat": 4,
  "vscode": {
   "interpreter": {
    "hash": "3113126c51a710267751267ce303dd1adb7b26752a8847128aaa526c69b17c1b"
   }
  }
 },
 "nbformat": 4,
 "nbformat_minor": 2
}
